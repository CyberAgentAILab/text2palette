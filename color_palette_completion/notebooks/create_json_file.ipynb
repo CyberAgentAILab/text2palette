{
 "cells": [
  {
   "cell_type": "markdown",
   "id": "9f3980c6-ef72-467b-b0d6-e304766fc811",
   "metadata": {},
   "source": [
    "### This file is to create json file from [crello dataset](https://github.com/CyberAgentAILab/canvas-vae/blob/main/docs/crello-dataset.md).\n",
    "- We use the crello-dataset-v2 in this work.\n",
    "- We offer a json creator and a json parser demos below."
   ]
  },
  {
   "cell_type": "code",
   "execution_count": 1,
   "id": "d3df10b5-8331-4786-8525-4f68afdc241f",
   "metadata": {},
   "outputs": [
    {
     "name": "stderr",
     "output_type": "stream",
     "text": [
      "2023-09-27 04:29:36.395025: I tensorflow/stream_executor/platform/default/dso_loader.cc:48] Successfully opened dynamic library libcudart.so.11.0\n"
     ]
    }
   ],
   "source": [
    "import tensorflow as tf\n",
    "from typing import Any, Dict\n",
    "from PIL import Image\n",
    "import io\n",
    "import os\n",
    "import math\n",
    "import numpy as np\n",
    "import matplotlib.pyplot as plt\n",
    "from ipywidgets import Image as ipyImage\n",
    "from ipycanvas import Canvas\n",
    "import time\n",
    "import json\n",
    "from base64 import b64encode, b64decode\n",
    "\n",
    "JSON_FILE_PATH = '../data/samples/crello_samples'"
   ]
  },
  {
   "cell_type": "code",
   "execution_count": 2,
   "id": "84a3daa7-0214-4af9-9c6d-89a265099f0d",
   "metadata": {},
   "outputs": [
    {
     "name": "stderr",
     "output_type": "stream",
     "text": [
      "2023-09-27 04:29:38.418926: I tensorflow/stream_executor/platform/default/dso_loader.cc:48] Successfully opened dynamic library libcuda.so.1\n",
      "2023-09-27 04:29:39.122947: I tensorflow/stream_executor/cuda/cuda_gpu_executor.cc:982] successful NUMA node read from SysFS had negative value (-1), but there must be at least one NUMA node, so returning NUMA node zero\n",
      "2023-09-27 04:29:39.123648: I tensorflow/core/common_runtime/gpu/gpu_device.cc:1716] Found device 0 with properties: \n",
      "pciBusID: 0000:00:04.0 name: Tesla T4 computeCapability: 7.5\n",
      "coreClock: 1.59GHz coreCount: 40 deviceMemorySize: 14.75GiB deviceMemoryBandwidth: 298.08GiB/s\n",
      "2023-09-27 04:29:39.123711: I tensorflow/stream_executor/platform/default/dso_loader.cc:48] Successfully opened dynamic library libcudart.so.11.0\n",
      "2023-09-27 04:29:39.127246: I tensorflow/stream_executor/platform/default/dso_loader.cc:48] Successfully opened dynamic library libcublas.so.11\n",
      "2023-09-27 04:29:39.128827: I tensorflow/stream_executor/platform/default/dso_loader.cc:48] Successfully opened dynamic library libcufft.so.10\n",
      "2023-09-27 04:29:39.129174: I tensorflow/stream_executor/platform/default/dso_loader.cc:48] Successfully opened dynamic library libcurand.so.10\n",
      "2023-09-27 04:29:39.132779: I tensorflow/stream_executor/platform/default/dso_loader.cc:48] Successfully opened dynamic library libcusolver.so.10\n",
      "2023-09-27 04:29:39.133566: I tensorflow/stream_executor/platform/default/dso_loader.cc:48] Successfully opened dynamic library libcusparse.so.11\n",
      "2023-09-27 04:29:39.133741: I tensorflow/stream_executor/platform/default/dso_loader.cc:48] Successfully opened dynamic library libcudnn.so.8\n",
      "2023-09-27 04:29:39.133911: I tensorflow/stream_executor/cuda/cuda_gpu_executor.cc:982] successful NUMA node read from SysFS had negative value (-1), but there must be at least one NUMA node, so returning NUMA node zero\n",
      "2023-09-27 04:29:39.134588: I tensorflow/stream_executor/cuda/cuda_gpu_executor.cc:982] successful NUMA node read from SysFS had negative value (-1), but there must be at least one NUMA node, so returning NUMA node zero\n",
      "2023-09-27 04:29:39.135187: I tensorflow/core/common_runtime/gpu/gpu_device.cc:1858] Adding visible gpu devices: 0\n",
      "2023-09-27 04:29:39.143426: I tensorflow/core/platform/profile_utils/cpu_utils.cc:104] CPU Frequency: 2199995000 Hz\n",
      "2023-09-27 04:29:39.143855: I tensorflow/compiler/xla/service/service.cc:168] XLA service 0x559e5db375c0 initialized for platform Host (this does not guarantee that XLA will be used). Devices:\n",
      "2023-09-27 04:29:39.143881: I tensorflow/compiler/xla/service/service.cc:176]   StreamExecutor device (0): Host, Default Version\n",
      "2023-09-27 04:29:39.223555: I tensorflow/stream_executor/cuda/cuda_gpu_executor.cc:982] successful NUMA node read from SysFS had negative value (-1), but there must be at least one NUMA node, so returning NUMA node zero\n",
      "2023-09-27 04:29:39.224265: I tensorflow/compiler/xla/service/service.cc:168] XLA service 0x559e5f16ebf0 initialized for platform CUDA (this does not guarantee that XLA will be used). Devices:\n",
      "2023-09-27 04:29:39.224292: I tensorflow/compiler/xla/service/service.cc:176]   StreamExecutor device (0): Tesla T4, Compute Capability 7.5\n",
      "2023-09-27 04:29:39.224567: I tensorflow/stream_executor/cuda/cuda_gpu_executor.cc:982] successful NUMA node read from SysFS had negative value (-1), but there must be at least one NUMA node, so returning NUMA node zero\n",
      "2023-09-27 04:29:39.225118: I tensorflow/core/common_runtime/gpu/gpu_device.cc:1716] Found device 0 with properties: \n",
      "pciBusID: 0000:00:04.0 name: Tesla T4 computeCapability: 7.5\n",
      "coreClock: 1.59GHz coreCount: 40 deviceMemorySize: 14.75GiB deviceMemoryBandwidth: 298.08GiB/s\n",
      "2023-09-27 04:29:39.225172: I tensorflow/stream_executor/platform/default/dso_loader.cc:48] Successfully opened dynamic library libcudart.so.11.0\n",
      "2023-09-27 04:29:39.225213: I tensorflow/stream_executor/platform/default/dso_loader.cc:48] Successfully opened dynamic library libcublas.so.11\n",
      "2023-09-27 04:29:39.225229: I tensorflow/stream_executor/platform/default/dso_loader.cc:48] Successfully opened dynamic library libcufft.so.10\n",
      "2023-09-27 04:29:39.225244: I tensorflow/stream_executor/platform/default/dso_loader.cc:48] Successfully opened dynamic library libcurand.so.10\n",
      "2023-09-27 04:29:39.225260: I tensorflow/stream_executor/platform/default/dso_loader.cc:48] Successfully opened dynamic library libcusolver.so.10\n",
      "2023-09-27 04:29:39.225275: I tensorflow/stream_executor/platform/default/dso_loader.cc:48] Successfully opened dynamic library libcusparse.so.11\n",
      "2023-09-27 04:29:39.225290: I tensorflow/stream_executor/platform/default/dso_loader.cc:48] Successfully opened dynamic library libcudnn.so.8\n",
      "2023-09-27 04:29:39.225369: I tensorflow/stream_executor/cuda/cuda_gpu_executor.cc:982] successful NUMA node read from SysFS had negative value (-1), but there must be at least one NUMA node, so returning NUMA node zero\n",
      "2023-09-27 04:29:39.225943: I tensorflow/stream_executor/cuda/cuda_gpu_executor.cc:982] successful NUMA node read from SysFS had negative value (-1), but there must be at least one NUMA node, so returning NUMA node zero\n",
      "2023-09-27 04:29:39.226463: I tensorflow/core/common_runtime/gpu/gpu_device.cc:1858] Adding visible gpu devices: 0\n",
      "2023-09-27 04:29:39.226508: I tensorflow/stream_executor/platform/default/dso_loader.cc:48] Successfully opened dynamic library libcudart.so.11.0\n",
      "2023-09-27 04:29:39.645396: I tensorflow/core/common_runtime/gpu/gpu_device.cc:1257] Device interconnect StreamExecutor with strength 1 edge matrix:\n",
      "2023-09-27 04:29:39.645436: I tensorflow/core/common_runtime/gpu/gpu_device.cc:1263]      0 \n",
      "2023-09-27 04:29:39.645445: I tensorflow/core/common_runtime/gpu/gpu_device.cc:1276] 0:   N \n",
      "2023-09-27 04:29:39.645696: I tensorflow/stream_executor/cuda/cuda_gpu_executor.cc:982] successful NUMA node read from SysFS had negative value (-1), but there must be at least one NUMA node, so returning NUMA node zero\n",
      "2023-09-27 04:29:39.646363: I tensorflow/stream_executor/cuda/cuda_gpu_executor.cc:982] successful NUMA node read from SysFS had negative value (-1), but there must be at least one NUMA node, so returning NUMA node zero\n",
      "2023-09-27 04:29:39.646934: I tensorflow/core/common_runtime/gpu/gpu_device.cc:1402] Created TensorFlow device (/job:localhost/replica:0/task:0/device:GPU:0 with 13996 MB memory) -> physical GPU (device: 0, name: Tesla T4, pci bus id: 0000:00:04.0, compute capability: 7.5)\n"
     ]
    }
   ],
   "source": [
    "dataset = tf.data.Dataset.list_files('../data/crello-dataset-v2/test-*.tfrecord')\n",
    "dataset = tf.data.TFRecordDataset(dataset)"
   ]
  },
  {
   "cell_type": "code",
   "execution_count": 3,
   "id": "ed05b2ad-aae9-49db-a31f-146cdacaa6ee",
   "metadata": {},
   "outputs": [],
   "source": [
    "def parse(serialized: bytes) -> Dict[str, tf.Tensor]:\n",
    "    \"\"\"Explicitly parse specified fields.\"\"\"\n",
    "    context, sequence, _ = tf.io.parse_sequence_example(\n",
    "        serialized,\n",
    "        context_features={\n",
    "            \"id\": tf.io.FixedLenFeature((), tf.string),\n",
    "            \"group\": tf.io.FixedLenFeature((), tf.string),\n",
    "            \"format\": tf.io.FixedLenFeature((), tf.string),\n",
    "            \"category\": tf.io.FixedLenFeature((), tf.string),\n",
    "            \"canvas_height\": tf.io.FixedLenFeature((), tf.int64),\n",
    "            \"canvas_width\": tf.io.FixedLenFeature((), tf.int64),\n",
    "            \"length\": tf.io.FixedLenFeature((), tf.int64),\n",
    "        },\n",
    "        sequence_features={\n",
    "            \"type\": tf.io.FixedLenSequenceFeature((), tf.string),\n",
    "            \"left\": tf.io.FixedLenSequenceFeature((), tf.float32),\n",
    "            \"top\": tf.io.FixedLenSequenceFeature((), tf.float32),\n",
    "            \"width\": tf.io.FixedLenSequenceFeature((), tf.float32),\n",
    "            \"height\": tf.io.FixedLenSequenceFeature((), tf.float32),\n",
    "            \"color\": tf.io.FixedLenSequenceFeature((3,), tf.int64),\n",
    "            \"opacity\": tf.io.FixedLenSequenceFeature((), tf.float32),\n",
    "            \"image_bytes\": tf.io.FixedLenSequenceFeature((), tf.string),\n",
    "            \"text\": tf.io.FixedLenSequenceFeature((), tf.string),\n",
    "            \"font\": tf.io.FixedLenSequenceFeature((), tf.string),\n",
    "            \"font_size\": tf.io.FixedLenSequenceFeature((), tf.float32),\n",
    "            \"text_align\": tf.io.FixedLenSequenceFeature((), tf.string),\n",
    "            \"angle\": tf.io.FixedLenSequenceFeature((), tf.float32),\n",
    "        })\n",
    "    return {**context, **sequence}"
   ]
  },
  {
   "cell_type": "markdown",
   "id": "ed28c71f-2404-4b41-b06b-a3b1ea451047",
   "metadata": {
    "tags": []
   },
   "source": [
    "#### Json Creator"
   ]
  },
  {
   "cell_type": "code",
   "execution_count": 4,
   "id": "6fdfc4a4-9813-4987-b807-875723c18cd1",
   "metadata": {},
   "outputs": [],
   "source": [
    "dataset_parse = dataset.map(parse)\n",
    "index = 0\n",
    "sampleID = 276 # reset sampleID to get more samples\n",
    "for example in dataset_parse.as_numpy_iterator():\n",
    "    index += 1\n",
    "    if index == sampleID:\n",
    "        elementTypes = [i.decode(\"utf-8\") for i in example['type']]\n",
    "        canvas = {\n",
    "            'id': example['id'].decode(\"utf-8\"),\n",
    "            'group': example['group'].decode(\"utf-8\"),\n",
    "            'format': example['format'].decode(\"utf-8\"),\n",
    "            'category': example['category'].decode(\"utf-8\"),\n",
    "            'canvas_width': int(example['canvas_width']),\n",
    "            'canvas_height': int(example['canvas_height']),\n",
    "            'length': int(example['length']),\n",
    "            'types': elementTypes,\n",
    "        }\n",
    "        for i in range(len(example['type'])):\n",
    "            element = {\n",
    "                'type': example['type'][i].decode(\"utf-8\"),\n",
    "                'left': float(example['left'][i]),\n",
    "                'top': float(example['top'][i]),\n",
    "                'width': float(example['width'][i]),\n",
    "                'height': float(example['height'][i]),\n",
    "                'color': example['color'][i].tolist(),\n",
    "                'opacity': float(example['opacity'][i]),\n",
    "                'image_bytes': b64encode(example['image_bytes'][i]).decode(\"utf-8\"),\n",
    "                'text': example['text'][i].decode(\"utf-8\"),\n",
    "                'font': example['font'][i].decode(\"utf-8\"),\n",
    "                'font_size': float(example['font_size'][i]),\n",
    "                'text_align': example['text_align'][i].decode(\"utf-8\"),\n",
    "                'angle': float(example['angle'][i]),\n",
    "                'depth': i,\n",
    "            }\n",
    "            canvas[f'element_{i}'] = element\n",
    "        # print(canvas) \n",
    "        with open(os.path.join(JSON_FILE_PATH, f'json_sample_{sampleID}.json'), 'w') as outfile:\n",
    "            json.dump(canvas, outfile)"
   ]
  },
  {
   "cell_type": "markdown",
   "id": "6796cb83-0b20-4f74-bc69-a26d3fb62ad8",
   "metadata": {
    "tags": []
   },
   "source": [
    "#### Json parser"
   ]
  },
  {
   "cell_type": "code",
   "execution_count": 5,
   "id": "64f93b48-f902-41a5-8ed4-ee677713398e",
   "metadata": {},
   "outputs": [
    {
     "name": "stdout",
     "output_type": "stream",
     "text": [
      "INTERNATIONAL CONFERENCE ON: left\n",
      "lines:3, lineWordNum:1\n",
      "Medical and BioSciences: left\n",
      "lines:2, lineWordNum:2\n",
      "2019: left\n",
      "lines:1, lineWordNum:1\n"
     ]
    },
    {
     "data": {
      "application/vnd.jupyter.widget-view+json": {
       "model_id": "85bf676e5a2244a38183d8f90b230efc",
       "version_major": 2,
       "version_minor": 0
      },
      "text/plain": [
       "Canvas(height=315, sync_image_data=True, width=851)"
      ]
     },
     "metadata": {},
     "output_type": "display_data"
    }
   ],
   "source": [
    "# sampleID = 1\n",
    "def line_break(text, height, font_size):\n",
    "    text = text.replace('\\n', ' ')\n",
    "    lines = round(height / font_size)\n",
    "    words = text.split(' ')\n",
    "    lineWordNum = math.ceil(len(words) / lines)\n",
    "    newText = ''\n",
    "    idx = 0\n",
    "    print(f'lines:{lines}, lineWordNum:{lineWordNum}')\n",
    "    for w in words:\n",
    "        newText += w\n",
    "        idx += 1\n",
    "        if idx % lineWordNum == 0:\n",
    "            newText += '\\n'\n",
    "        else:\n",
    "            newText += ' '            \n",
    "    return newText\n",
    "\n",
    "with open(os.path.join(JSON_FILE_PATH, f'json_sample_{sampleID}.json')) as json_file:\n",
    "    data = json.load(json_file)\n",
    "    canvas_width = data['canvas_width']\n",
    "    canvas_height = data['canvas_height']\n",
    "    canvas_image = Canvas(width=canvas_width, height=canvas_height, sync_image_data=True)\n",
    "\n",
    "    for i in range(data['length']):\n",
    "        x = data[f'element_{i}']['left']*canvas_width\n",
    "        y = data[f'element_{i}']['top']*canvas_height\n",
    "        width = data[f'element_{i}']['width']*canvas_width\n",
    "        height = data[f'element_{i}']['height']*canvas_height\n",
    "        if data[f'element_{i}']['type'] != 'textElement':\n",
    "        # if data[f'element_{i}']['type'] == 'imageElement':\n",
    "        # if data[f'element_{i}']['type'] != 'imageElement' and data[f'element_{i}']['type'] != 'textElement':\n",
    "            image = ipyImage.from_file(io.BytesIO(b64decode(data[f'element_{i}']['image_bytes'])))\n",
    "            canvas_image.draw_image(image, x, y, width, height)\n",
    "            time.sleep(1)\n",
    "        else :\n",
    "            text = data[f'element_{i}']['text']\n",
    "            font = data[f'element_{i}']['font']\n",
    "            font_size = data[f'element_{i}']['font_size']\n",
    "            text_align = data[f'element_{i}']['text_align']\n",
    "            x = x + width if text_align == 'right' else x\n",
    "            x = x + width/2 if text_align == 'center' else x\n",
    "            angle = data[f'element_{i}']['angle']\n",
    "            \n",
    "            canvas_image.font = f'{font_size}px {font}'\n",
    "            color_rgb = data[f'element_{i}']['color']\n",
    "            color_hex = '#%02x%02x%02x' % (color_rgb[0], color_rgb[1], color_rgb[2])\n",
    "            canvas_image.stroke_style = color_hex\n",
    "            canvas_image.fill_style = color_hex\n",
    "            canvas_image.rotate = angle / math.pi * 180\n",
    "            canvas_image.text_align = text_align\n",
    "            print(text + ': ' + text_align)\n",
    "            # canvas_image.fill_text(text, x, y+height, max_width=width)\n",
    "            text = line_break(text, height, font_size)\n",
    "            texts = text.split('\\n')\n",
    "            for t in range(len(texts)):\n",
    "                canvas_image.fill_text(texts[t], x, y+font_size*(t+1), max_width = width)\n",
    "                \n",
    "                time.sleep(2) # sleep more time when text can not be fully stored\n",
    "            # canvas_image.stroke_rect(x, y, width, height)\n",
    "canvas_image"
   ]
  },
  {
   "cell_type": "code",
   "execution_count": null,
   "id": "456812ba-52f8-4ce7-8f36-47ea90ce4428",
   "metadata": {},
   "outputs": [],
   "source": []
  }
 ],
 "metadata": {
  "kernelspec": {
   "display_name": "Python 3 (ipykernel)",
   "language": "python",
   "name": "python3"
  },
  "language_info": {
   "codemirror_mode": {
    "name": "ipython",
    "version": 3
   },
   "file_extension": ".py",
   "mimetype": "text/x-python",
   "name": "python",
   "nbconvert_exporter": "python",
   "pygments_lexer": "ipython3",
   "version": "3.7.10"
  }
 },
 "nbformat": 4,
 "nbformat_minor": 5
}
